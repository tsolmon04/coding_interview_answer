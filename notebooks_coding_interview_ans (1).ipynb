{
  "metadata": {
    "kernelspec": {
      "name": "python",
      "display_name": "Python (Pyodide)",
      "language": "python"
    },
    "language_info": {
      "codemirror_mode": {
        "name": "python",
        "version": 3
      },
      "file_extension": ".py",
      "mimetype": "text/x-python",
      "name": "python",
      "nbconvert_exporter": "python",
      "pygments_lexer": "ipython3",
      "version": "3.8"
    }
  },
  "nbformat_minor": 5,
  "nbformat": 4,
  "cells": [
    {
      "cell_type": "markdown",
      "source": "# Solutions to coding interview questions.\n\nPython Edition\nBy Tsolmon Gunaabazar.\n\n# 1. **Arrays**\nIn python, arrays are the fundamental data structures called \"lists\". A list is a collection of  values that are ordered and mutable. Here are some common operations and features related to Python lists:\n\n## 1.1 Creating a list.\n\n>*You can create a list by enclosing a comma-separated sequence of values in square brackets*.",
      "metadata": {},
      "id": "a35eeb9f-df70-4ab1-a243-2d2025888eb0"
    },
    {
      "cell_type": "code",
      "source": "my_list = [1, 2, 3, 4, 5]\nprint(my_list)",
      "metadata": {
        "trusted": true
      },
      "execution_count": 10,
      "outputs": [
        {
          "name": "stdout",
          "text": "[1, 2, 3, 4, 5]\n",
          "output_type": "stream"
        }
      ],
      "id": "fe55883a-6887-43dd-9498-5333a51799e2"
    },
    {
      "cell_type": "markdown",
      "source": "## 1.2 Accessing elements of a list.\n>*You can access individual elements of a list using square brackets and a zero-based index:*",
      "metadata": {},
      "id": "b9670d85-ef29-4dfd-b4b5-e76d279c1f1a"
    },
    {
      "cell_type": "code",
      "source": "my_list = [1, 2, 3, 4, 5]\nprint(my_list[0])\nprint(my_list[3])",
      "metadata": {
        "trusted": true
      },
      "execution_count": 3,
      "outputs": [
        {
          "name": "stdout",
          "text": "1\n4\n",
          "output_type": "stream"
        }
      ],
      "id": "8a9e6c15-f465-4f77-831c-62e64e2f7e3e"
    },
    {
      "cell_type": "markdown",
      "source": ">You can also use negative indices to access elements from the end of the list:",
      "metadata": {},
      "id": "c8344a9e-d963-495c-aad3-845737f9eb30"
    },
    {
      "cell_type": "code",
      "source": "print(my_list[-1])\nprint(my_list[-3])",
      "metadata": {
        "trusted": true
      },
      "execution_count": 6,
      "outputs": [
        {
          "name": "stdout",
          "text": "5\n3\n",
          "output_type": "stream"
        }
      ],
      "id": "acf2018c-4ddd-4329-9cb5-0b56adba1a35"
    },
    {
      "cell_type": "markdown",
      "source": "## 1.3 Modifying elements of a list.\n>You can modify individual elements of a list by assigning a new value to a specific index:",
      "metadata": {},
      "id": "8ec31c75-f184-4116-a813-d301f93c7144"
    },
    {
      "cell_type": "code",
      "source": "my_list = [1, 2, 3, 4, 5]\nmy_list[2] = 8\nprint(my_list)",
      "metadata": {
        "trusted": true
      },
      "execution_count": 7,
      "outputs": [
        {
          "name": "stdout",
          "text": "[1, 2, 8, 4, 5]\n",
          "output_type": "stream"
        }
      ],
      "id": "b5f3225b-d39e-4f0b-84a2-6d72e613096c"
    },
    {
      "cell_type": "markdown",
      "source": "## 1.4 List slicing.\n>You can extract a sublist(or slice) of a list using the slice notation. The slice notation has the form '[start:stop:step]', where 'start' is the starting index (inclusive), 'stop' is the stopping index (exclusive), and 'step' is the step size:",
      "metadata": {},
      "id": "2743623b-8959-4376-ad6a-46f47cdf4920"
    },
    {
      "cell_type": "code",
      "source": "my_list = [1, 2, 3, 4, 5]\nprint(my_list[1:4])\nprint(my_list[:3])\nprint(my_list[::2])\nprint(my_list[::-1])",
      "metadata": {},
      "execution_count": null,
      "outputs": [],
      "id": "308bf79b-1c84-4d9f-b64a-4f431380ce99"
    },
    {
      "cell_type": "markdown",
      "source": "## 1.4 List Concatenation and repetition.\n>You can concatenate two lists using the '+' operator:",
      "metadata": {},
      "id": "8438cc9c-7b6a-4119-a992-c75756354c0b"
    },
    {
      "cell_type": "code",
      "source": "list_1 = [6, 7, 8]\nlist_2 = [1, 2, 3]\nconcatenated_list = list_1 + list_2\nprint(concatenated_list)",
      "metadata": {
        "trusted": true
      },
      "execution_count": 9,
      "outputs": [
        {
          "name": "stdout",
          "text": "[6, 7, 8, 1, 2, 3]\n",
          "output_type": "stream"
        }
      ],
      "id": "9e7e8e27-d3b3-4985-bb6f-6ac9931d164d"
    },
    {
      "cell_type": "markdown",
      "source": ">You can repeat a list a certain number of times using the '*' operator:",
      "metadata": {},
      "id": "38e92d1f-db24-4bd4-aa7d-3eb8ef72615b"
    },
    {
      "cell_type": "code",
      "source": "my_list = [1, 2, 3]\nrepeated_list = my_list * 3\nprint(repeated_list)",
      "metadata": {
        "trusted": true
      },
      "execution_count": 11,
      "outputs": [
        {
          "name": "stdout",
          "text": "[1, 2, 3, 1, 2, 3, 1, 2, 3]\n",
          "output_type": "stream"
        }
      ],
      "id": "7515fa0d-e628-4b7b-9275-2ed9cc6485b7"
    },
    {
      "cell_type": "markdown",
      "source": "## 1.5 List Length.\n>You can find the length of a list using the 'len()' function:",
      "metadata": {},
      "id": "9f5fbfbb-2e51-4884-a3bd-f1145e9fd2fa"
    },
    {
      "cell_type": "code",
      "source": "my_list = [1, 2, 3, 4, 5]\nprint(len(my_list))",
      "metadata": {
        "trusted": true
      },
      "execution_count": 12,
      "outputs": [
        {
          "name": "stdout",
          "text": "5\n",
          "output_type": "stream"
        }
      ],
      "id": "7eac2571-1ded-43a5-ab45-00bcec2eee1a"
    },
    {
      "cell_type": "markdown",
      "source": "## 1.6 List methods. List as a stack.\n>Python lists have many useful built-in methods that you can use to manipulate them. For example:",
      "metadata": {},
      "id": "f9fcb15f-7faf-403f-b7f8-9a4c0ddf2d86"
    },
    {
      "cell_type": "code",
      "source": "my_list = [1, 2, 3, 4, 5]\nmy_list.append(6)\nmy_list.insert(2, 10)\nmy_list",
      "metadata": {
        "trusted": true
      },
      "execution_count": 13,
      "outputs": [
        {
          "execution_count": 13,
          "output_type": "execute_result",
          "data": {
            "text/plain": "[1, 2, 10, 3, 4, 5, 6]"
          },
          "metadata": {}
        }
      ],
      "id": "fadf1c5a-ae58-4abc-9a2c-b8d9dc0267b2"
    },
    {
      "cell_type": "markdown",
      "source": "## 1.7 Loop through arrays. \n>You can loop through the arrays using the indeces:",
      "metadata": {},
      "id": "faf4a88e-131b-4c13-966e-019933b6377d"
    },
    {
      "cell_type": "code",
      "source": "nums = [1, 2, 3]\nfor i in range(len(nums)):\n    print(nums[i])",
      "metadata": {
        "trusted": true
      },
      "execution_count": 14,
      "outputs": [
        {
          "name": "stdout",
          "text": "1\n2\n3\n",
          "output_type": "stream"
        }
      ],
      "id": "c7822c54-4d18-43b8-8d43-626b9ec80402"
    },
    {
      "cell_type": "markdown",
      "source": ">You can also loop through the arrays without the indeces:",
      "metadata": {},
      "id": "135375b1-40b0-4064-a2d0-8e22856fe5b5"
    },
    {
      "cell_type": "code",
      "source": "nums = [1, 2, 3]\nfor num in nums:\n    print(num)",
      "metadata": {
        "trusted": true
      },
      "execution_count": 15,
      "outputs": [
        {
          "name": "stdout",
          "text": "1\n2\n3\n",
          "output_type": "stream"
        }
      ],
      "id": "7a4c75a4-2400-4af3-a644-4223f212768a"
    },
    {
      "cell_type": "markdown",
      "source": "## Leetcode problems on arrays.\nQ1. Two Sums (Easy).\nGiven an array of integers nums and an integer target, return indices of the two numbers such that they add up to target. You may assume that each input would have exactly one solution, and you may not use the same element twice.You can return the answer in any order.",
      "metadata": {},
      "id": "5637fa93-8a08-4075-a695-bfa29ec4bcce"
    },
    {
      "cell_type": "code",
      "source": "def twoSum(nums: list[int], target: int) -> list[int]:\n    \"\"\"Return indices of the two numbers that add up to target.\n    >>> nums = [2, 7, 11, 15], target = 9\n    [0, 1]\n    \"\"\"\n    num_to_index = {} #Hashset to accumulate the number\n    for i, num in enumerate(nums):\n        complement = target - num\n        if complement in num_to_index:\n            return [num_to_index[complement], i]\n        num_to_index[num] = i",
      "metadata": {
        "trusted": true
      },
      "execution_count": 22,
      "outputs": [],
      "id": "c56b4ce4-a52c-44e3-858d-ea15152c82f0"
    },
    {
      "cell_type": "code",
      "source": "twoSum([2,7,11,15], 9)",
      "metadata": {
        "trusted": true
      },
      "execution_count": 21,
      "outputs": [
        {
          "execution_count": 21,
          "output_type": "execute_result",
          "data": {
            "text/plain": "[0, 1]"
          },
          "metadata": {}
        }
      ],
      "id": "1c1a4bf1-f7da-4f13-8b32-00fe5ce0984b"
    },
    {
      "cell_type": "markdown",
      "source": "Q9. Palindrome Number (Easy). \nGiven an integer x, return true if x is a palindrome, and false otherwise.",
      "metadata": {},
      "id": "16e31025-f027-484e-8750-4f9ad2ff6e7b"
    },
    {
      "cell_type": "code",
      "source": "def is_palindrome(x: int) -> bool:\n    \"\"\"Return True if the integer x is a palindrome.\n    >>> x = 121\n    >>> is_palindrome(x)\n    True\n    >>> x = -121\n    >>> is_palindrome(x)\n    False\n    \"\"\"\n    str_x = str(x)\n    reverse_x = str_x[::-1]\n    if str_x == reverse_x:\n        return True\n    return False",
      "metadata": {
        "trusted": true
      },
      "execution_count": 25,
      "outputs": [],
      "id": "36a5b2ed-9407-479c-a22a-21b266659a9d"
    },
    {
      "cell_type": "code",
      "source": "is_palindrome(121)",
      "metadata": {
        "trusted": true
      },
      "execution_count": 26,
      "outputs": [
        {
          "execution_count": 26,
          "output_type": "execute_result",
          "data": {
            "text/plain": "True"
          },
          "metadata": {}
        }
      ],
      "id": "a58abdbc-1fc5-4a01-8760-78b7cb598ef6"
    },
    {
      "cell_type": "code",
      "source": "is_palindrome(-121)",
      "metadata": {
        "trusted": true
      },
      "execution_count": 27,
      "outputs": [
        {
          "execution_count": 27,
          "output_type": "execute_result",
          "data": {
            "text/plain": "False"
          },
          "metadata": {}
        }
      ],
      "id": "199d744c-b356-439e-8ac5-b171738e0505"
    },
    {
      "cell_type": "markdown",
      "source": "Q13. Roman to Integer (Easy). Roman numerals are represented by seven different symbols: I, V, X, L, C, D and M. For example, 2 is written as II in Roman numeral, just two ones added together. 12 is written as XII, which is simply X + II. The number 27 is written as XXVII, which is XX + V + II.\nRoman numerals are usually written largest to smallest from left to right. However, the numeral for four is not IIII. Instead, the number four is written as IV. Because the one is before the five we subtract it making four. The same principle applies to the number nine, which is written as IX. There are six instances where subtraction is used:\nI can be placed before V (5) and X (10) to make 4 and 9. \nX can be placed before L (50) and C (100) to make 40 and 90. \nC can be placed before D (500) and M (1000) to make 400 and 900.\nGiven a roman numeral, convert it to an integer.",
      "metadata": {},
      "id": "6eae4670-a100-4c49-8357-98d7cb7882e0"
    },
    {
      "cell_type": "code",
      "source": "def roman_to_int(s: str) -> int:\n    \"\"\"Return string s given in a roman numeral to an integer.\n    >>> roman_to_int('III')\n    3\n    >>> roman_to_int('MCMXCIV')\n    1994\n    \"\"\"\n    MyDict = {}\n    MyDict['I'] = 1\n    MyDict['IV'] = 4\n    MyDict['V'] = 5\n    MyDict['IX'] = 9\n    MyDict['X'] = 10\n    MyDict['XL'] = 40\n    MyDict['L'] = 50\n    MyDict['XC'] = 90\n    MyDict['C'] = 100\n    MyDict['CD'] = 400\n    MyDict['D'] = 500\n    MyDict['CM'] = 900\n    MyDict['M'] = 1000\n    result = 0\n    for i in range(len(s)-1):\n        if MyDict[s[i]] < MyDict[s[i+1]]:\n                result = result - MyDict[s[i]]\n            else:   \n                result = result + MyDict[s[i]]\n    return result + MyDict[s[-1]]",
      "metadata": {
        "trusted": true
      },
      "execution_count": null,
      "outputs": [],
      "id": "1da66b07-305e-4b91-83be-799e97df97cc"
    },
    {
      "cell_type": "markdown",
      "source": "Explanation: The roman_to_int function takes a string s representing a Roman numeral and converts it to an integer. The function uses a dictionary to map each Roman numeral character to its corresponding decimal value. The dictionary MyDict is created with the mapping of each Roman numeral to its decimal value. For example, MyDict['I'] is set to 1, MyDict['IV'] is set to 4, and so on.\n\nThe variable result is initially set to 0. The function then iterates through the string s using a for loop. The loop runs from the first character of the string to the second to last character of the string, comparing each character with the one that follows it. If the decimal value of the current character is less than the decimal value of the next character, the function subtracts the value of the current character from the result. Otherwise, the function adds the value of the current character to the result.\n\nFinally, the function adds the value of the last character in the string to the result, since it was not included in the loop. This gives us the total decimal value of the Roman numeral.\n\nFor example, if the input string is 'MCMXCIV', the function will iterate through the string as follows:\ns[0] is 'M' with a value of 1000.\ns[1] is 'C' with a value of 100.\nSince MyDict[s[0]] is greater than MyDict[s[1]], the function adds 1000 to the result.\ns[2] is 'M' with a value of 1000.\nSince MyDict[s[1]] is less than MyDict[s[2]], the function subtracts 100 from the result.\ns[3] is 'X' with a value of 10.\nSince MyDict[s[2]] is greater than MyDict[s[3]], the function adds 1000 to the result.\ns[4] is 'C' with a value of 100.\nSince MyDict[s[3]] is less than MyDict[s[4]], the function subtracts 10 from the result.\ns[5] is 'I' with a value of 1.\nSince MyDict[s[4]] is less than MyDict[s[5]], the function subtracts 100 from the result.\ns[6] is 'V' with a value of 5.\nSince MyDict[s[5]] is less than MyDict[s[6]], the function subtracts 1 from the result.\nFinally, the function adds the value of the last character 'V' (5) to the result.\nThe total result is 1994, which is the decimal value of the Roman numeral 'MCMXCIV'.",
      "metadata": {},
      "id": "c397691a-a7ee-419b-a4ab-745e5cd88e01"
    },
    {
      "cell_type": "code",
      "source": "roman_to_int('MCMXCIV')",
      "metadata": {
        "trusted": true
      },
      "execution_count": 33,
      "outputs": [
        {
          "execution_count": 31,
          "output_type": "execute_result",
          "data": {
            "text/plain": "1994"
          },
          "metadata": {}
        }
      ],
      "id": "da21eb24-307c-4dd3-ab3d-69887d9e41d7"
    },
    {
      "cell_type": "code",
      "source": "roman_to_int('III')",
      "metadata": {
        "trusted": true
      },
      "execution_count": 34,
      "outputs": [
        {
          "execution_count": 32,
          "output_type": "execute_result",
          "data": {
            "text/plain": "3"
          },
          "metadata": {}
        }
      ],
      "id": "7cca2d85-09bb-4d51-9d22-a193377a6116"
    },
    {
      "cell_type": "markdown",
      "source": "Q14. Longest Common Prefix. Write a function to find the longest common prefix string amongst an array of strings. If there is no common prefix, return an empty string \"\".",
      "metadata": {},
      "id": "c7e9970c-1f7e-4e71-9b20-a93c84889fc2"
    },
    {
      "cell_type": "code",
      "source": "def longest_common_prefix(strs: str) -> str:\n    \"\"\"Return the longest common prefix string amongst an array of strings.\n    >>> longest_common_prefix('flowers', 'flight', 'flour')\n    'fl'\n    >>> longest_common_prefix('racecar', 'horse', 'cat')\n    ''\n    \"\"\"\n    if not strs: #check if the list is empty\n            return \"\"\n    for i in range(len(strs[0])):\n        for j in range(1, len(strs)):\n            if i >= len(strs[j]) or strs[j][i] != strs[0][i]:\n                return strs[0][:i]\n    return strs[0]",
      "metadata": {
        "trusted": true
      },
      "execution_count": 48,
      "outputs": [],
      "id": "5d01f3d6-07c3-4f15-8cdf-607f20a59184"
    },
    {
      "cell_type": "code",
      "source": "strs = ('flower', 'flight', 'flour')\nlongest_common_prefix(strs)",
      "metadata": {
        "trusted": true
      },
      "execution_count": 42,
      "outputs": [
        {
          "execution_count": 39,
          "output_type": "execute_result",
          "data": {
            "text/plain": "'fl'"
          },
          "metadata": {}
        }
      ],
      "id": "6e79ad70-e19a-434f-9905-ba5a252a6dfa"
    },
    {
      "cell_type": "code",
      "source": "strs = ('racecar', 'horse', 'car')\nlongest_common_prefix(strs)",
      "metadata": {
        "trusted": true
      },
      "execution_count": 43,
      "outputs": [
        {
          "execution_count": 40,
          "output_type": "execute_result",
          "data": {
            "text/plain": "''"
          },
          "metadata": {}
        }
      ],
      "id": "01915947-ccbc-47d5-a5ac-7ecdedcaa2e0"
    },
    {
      "cell_type": "markdown",
      "source": "Q20. Valid Parentheses. Given a string 's' containing just the characters '(', ')', '{', '}', '[' and ']', determine if the input string is valid. An input string is valid if:\nOpen brackets must be closed by the same type of brackets.\nOpen brackets must be closed in the correct order.\nEvery close bracket has a corresponding open bracket of the same type.",
      "metadata": {},
      "id": "c5d31001-fe78-468c-8e77-8be18345b2b5"
    },
    {
      "cell_type": "code",
      "source": "def is_valid(s: str) -> bool:\n    \"\"\"Return True if the input string s is valid.\n    >>> s = '()'\n    True\n    >>> s = '()[]{}'\n    True\n    >>> s = '(]'\n    False\n    \"\"\"\n    stack = []\n    match = {'(': ')',\n             '[': ']',\n             '{': '}'} \n    for char in s:\n        if char in match:\n            stack.append(char)\n        else:\n            if not stack or match[stack.pop()] != char:\n                return False\n    return not stack",
      "metadata": {
        "trusted": true
      },
      "execution_count": 44,
      "outputs": [],
      "id": "0d3cae48-05df-4e9c-bef1-19c3faef4148"
    },
    {
      "cell_type": "code",
      "source": "s = '()'\nis_valid(s)",
      "metadata": {
        "trusted": true
      },
      "execution_count": 45,
      "outputs": [
        {
          "execution_count": 42,
          "output_type": "execute_result",
          "data": {
            "text/plain": "True"
          },
          "metadata": {}
        }
      ],
      "id": "f25d3a9f-57aa-492b-9e63-6aa71b1e8bb7"
    },
    {
      "cell_type": "code",
      "source": "s = '[](){}'\nis_valid(s)",
      "metadata": {
        "trusted": true
      },
      "execution_count": 46,
      "outputs": [
        {
          "execution_count": 43,
          "output_type": "execute_result",
          "data": {
            "text/plain": "True"
          },
          "metadata": {}
        }
      ],
      "id": "d15100bb-2ac4-4996-acff-3a7a1dc9c337"
    },
    {
      "cell_type": "code",
      "source": "s = '(]'\nis_valid(s)",
      "metadata": {
        "trusted": true
      },
      "execution_count": 47,
      "outputs": [
        {
          "execution_count": 44,
          "output_type": "execute_result",
          "data": {
            "text/plain": "False"
          },
          "metadata": {}
        }
      ],
      "id": "21d27b46-4b96-4e1e-a806-96b02de9e71a"
    },
    {
      "cell_type": "markdown",
      "source": "Q21. Merge two sorted lists. You are given the heads of two sorted linked lists list1 and list2. Merge the two lists in a one sorted list. The list should be made by splicing together the nodes of the first two lists. Return the head of the merged linked list.",
      "metadata": {},
      "id": "17b738c4-2a5d-4975-b361-f2adb64946ae"
    },
    {
      "cell_type": "code",
      "source": "class ListNode:\n    def __init__(self, val=0, next=None):\n        self.val = val\n        self.next = next\ndef merge_two_sorted_lists(list1: optional[ListNode], list2: optional[ListNode]) -> optional[ListNode]:\n    \"\"\"Return The head of the merged linked list of list1 and list2.\n    >>> list1 = [1,2,4], list2 = [1,3,4]\n    >>> merge_two_sorted_lists(list1, list2)\n    [1,1,2,3,4,4]\n    >>> list1 = [], list2 = []\n    >>> merge_two_sorted_lists(list1, list2)\n    []\n    >>> list1 = [], list2 = [0]\n    >>> merge_two_sorted_lists(list1, list2)\n    [0]\n    \"\"\"\n    dummy = ListNode()\n    curr = dummy \n    while list1 and list2:\n        if list1.val <= list2.val:\n            curr.next = list1\n            list1 = list1.next\n        else:\n            curr.next = list2\n            list2 = list2.next\n        curr = curr.next\n    curr.next = list1",
      "metadata": {
        "trusted": true
      },
      "execution_count": 52,
      "outputs": [
        {
          "ename": "<class 'NameError'>",
          "evalue": "name 'optional' is not defined",
          "traceback": [
            "\u001b[0;31m---------------------------------------------------------------------------\u001b[0m",
            "\u001b[0;31mNameError\u001b[0m                                 Traceback (most recent call last)",
            "Cell \u001b[0;32mIn[49], line 5\u001b[0m\n\u001b[1;32m      3\u001b[0m         \u001b[38;5;28mself\u001b[39m\u001b[38;5;241m.\u001b[39mval \u001b[38;5;241m=\u001b[39m val\n\u001b[1;32m      4\u001b[0m         \u001b[38;5;28mself\u001b[39m\u001b[38;5;241m.\u001b[39mnext \u001b[38;5;241m=\u001b[39m \u001b[38;5;28mnext\u001b[39m\n\u001b[0;32m----> 5\u001b[0m \u001b[38;5;28;01mdef\u001b[39;00m \u001b[38;5;21mmerge_two_sorted_lists\u001b[39m(list1: \u001b[43moptional\u001b[49m[ListNode], list2: optional[ListNode]) \u001b[38;5;241m-\u001b[39m\u001b[38;5;241m>\u001b[39m optional[ListNode]:\n\u001b[1;32m      6\u001b[0m \u001b[38;5;250m    \u001b[39m\u001b[38;5;124;03m\"\"\"Return The head of the merged linked list of list1 and list2.\u001b[39;00m\n\u001b[1;32m      7\u001b[0m \u001b[38;5;124;03m    >>> list1 = [1,2,4], list2 = [1,3,4]\u001b[39;00m\n\u001b[1;32m      8\u001b[0m \u001b[38;5;124;03m    >>> merge_two_sorted_lists(list1, list2)\u001b[39;00m\n\u001b[0;32m   (...)\u001b[0m\n\u001b[1;32m     15\u001b[0m \u001b[38;5;124;03m    [0]\u001b[39;00m\n\u001b[1;32m     16\u001b[0m \u001b[38;5;124;03m    \"\"\"\u001b[39;00m\n\u001b[1;32m     17\u001b[0m     dummy \u001b[38;5;241m=\u001b[39m ListNode()\n",
            "\u001b[0;31mNameError\u001b[0m: name 'optional' is not defined"
          ],
          "output_type": "error"
        }
      ],
      "id": "017e001d-2ae7-482c-9564-cd6e546ab7e3"
    },
    {
      "cell_type": "code",
      "source": "",
      "metadata": {},
      "execution_count": null,
      "outputs": [],
      "id": "5456f185-d00d-4d39-8bc3-77b7c1af39a1"
    }
  ]
}